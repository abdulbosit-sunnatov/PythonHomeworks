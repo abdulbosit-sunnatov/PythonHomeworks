{
 "cells": [
  {
   "cell_type": "code",
   "execution_count": 2,
   "id": "bfabce68",
   "metadata": {},
   "outputs": [
    {
     "name": "stdout",
     "output_type": "stream",
     "text": [
      "[None, 1, 2, 3, 3, 4, 4, 4]\n"
     ]
    }
   ],
   "source": [
    "#1\n",
    "\n",
    "list = [None,1,2,3,None,4,None,None]\n",
    "\n",
    "for i in range(len(list)-1):\n",
    "    if list[i] != None and list[i+1] == None:\n",
    "        list[i+1] = list[i]\n",
    "\n",
    "print(list)"
   ]
  },
  {
   "cell_type": "code",
   "execution_count": 43,
   "id": "ad67bafc",
   "metadata": {},
   "outputs": [
    {
     "name": "stdout",
     "output_type": "stream",
     "text": [
      "12/4/2025\n",
      "December 4, 2025\n",
      "4 December 2025\n"
     ]
    }
   ],
   "source": [
    "class Date:\n",
    "    month_names = [\n",
    "        \"\", \"January\", \"February\", \"March\", \"April\", \"May\", \"June\",\n",
    "        \"July\", \"August\", \"September\", \"October\", \"November\", \"December\"\n",
    "    ]\n",
    "\n",
    "    def __init__(self, month, day, year):\n",
    "        if not (1 <= month <= 12):\n",
    "            raise ValueError(f'Invalid month: {month}. Must be between 1 and 12.')\n",
    "        if not (1 <= day <= 31):  # Basic validation\n",
    "            raise ValueError(f'Invalid day: {day}. Must be between 1 and 31.')\n",
    "        self.month = month\n",
    "        self.day = day\n",
    "        self.year = year\n",
    "\n",
    "    def print_format1(self):\n",
    "        print(f'{self.month}/{self.day}/{self.year}') \n",
    "\n",
    "    def print_format2(self):\n",
    "        print(f'{self.month_names[self.month]} {self.day}, {self.year}') \n",
    "\n",
    "    def print_format3(self):\n",
    "        print(f'{self.day} {self.month_names[self.month]} {self.year}')  \n",
    "\n",
    "\n",
    "def main():\n",
    "    month = 12\n",
    "    day = 4\n",
    "    year = 2025\n",
    "\n",
    "    date = Date(month, day, year)\n",
    "    date.print_format1()\n",
    "    date.print_format2()\n",
    "    date.print_format3()\n",
    "\n",
    "if __name__ == '__main__':\n",
    "    main()\n"
   ]
  },
  {
   "cell_type": "code",
   "execution_count": null,
   "id": "f22d9e08",
   "metadata": {},
   "outputs": [
    {
     "data": {
      "text/html": [
       "<div>\n",
       "<style scoped>\n",
       "    .dataframe tbody tr th:only-of-type {\n",
       "        vertical-align: middle;\n",
       "    }\n",
       "\n",
       "    .dataframe tbody tr th {\n",
       "        vertical-align: top;\n",
       "    }\n",
       "\n",
       "    .dataframe thead th {\n",
       "        text-align: right;\n",
       "    }\n",
       "</style>\n",
       "<table border=\"1\" class=\"dataframe\">\n",
       "  <thead>\n",
       "    <tr style=\"text-align: right;\">\n",
       "      <th></th>\n",
       "      <th>Year1</th>\n",
       "      <th>MaxValue</th>\n",
       "    </tr>\n",
       "  </thead>\n",
       "  <tbody>\n",
       "    <tr>\n",
       "      <th>0</th>\n",
       "      <td>2001</td>\n",
       "      <td>101</td>\n",
       "    </tr>\n",
       "    <tr>\n",
       "      <th>1</th>\n",
       "      <td>2003</td>\n",
       "      <td>103</td>\n",
       "    </tr>\n",
       "    <tr>\n",
       "      <th>2</th>\n",
       "      <td>2003</td>\n",
       "      <td>89</td>\n",
       "    </tr>\n",
       "    <tr>\n",
       "      <th>3</th>\n",
       "      <td>2004</td>\n",
       "      <td>91</td>\n",
       "    </tr>\n",
       "  </tbody>\n",
       "</table>\n",
       "</div>"
      ],
      "text/plain": [
       "   Year1  MaxValue\n",
       "0   2001       101\n",
       "1   2003       103\n",
       "2   2003        89\n",
       "3   2004        91"
      ]
     },
     "execution_count": 19,
     "metadata": {},
     "output_type": "execute_result"
    }
   ],
   "source": [
    "import pandas as pd \n",
    "\n",
    "df = pd.read_csv('TestMax.csv')\n",
    "\n",
    "df[\"MaxValue\"] = df[['Max1','Max2',\"Max3\"]].max(axis=1)\n",
    "\n",
    "df[['Year1',\"MaxValue\"]]"
   ]
  },
  {
   "cell_type": "code",
   "execution_count": 44,
   "id": "f975a87c",
   "metadata": {},
   "outputs": [
    {
     "data": {
      "text/plain": [
       "array([[6, 0, 1],\n",
       "       [3, 5, 5],\n",
       "       [6, 6, 6]], dtype=int32)"
      ]
     },
     "execution_count": 44,
     "metadata": {},
     "output_type": "execute_result"
    }
   ],
   "source": [
    "import numpy as np\n",
    "\n",
    "\n",
    "np.random.randint(0,10,(3,3))\n"
   ]
  },
  {
   "cell_type": "code",
   "execution_count": 31,
   "id": "d827c89f",
   "metadata": {},
   "outputs": [
    {
     "name": "stdout",
     "output_type": "stream",
     "text": [
      "Mean:  9.0 Median:  9.0 St dev:  0.0\n"
     ]
    }
   ],
   "source": [
    "import numpy as np\n",
    "\n",
    "random_nums = np.random.randint(1,10)\n",
    "\n",
    "mean = np.mean(random_nums)\n",
    "median = np.median(random_nums)\n",
    "st_dev = np.std(random_nums)\n",
    "\n",
    "print(\"Mean: \", mean,\"Median: \", median,\"St dev: \",st_dev)"
   ]
  }
 ],
 "metadata": {
  "kernelspec": {
   "display_name": "base",
   "language": "python",
   "name": "python3"
  },
  "language_info": {
   "codemirror_mode": {
    "name": "ipython",
    "version": 3
   },
   "file_extension": ".py",
   "mimetype": "text/x-python",
   "name": "python",
   "nbconvert_exporter": "python",
   "pygments_lexer": "ipython3",
   "version": "3.12.9"
  }
 },
 "nbformat": 4,
 "nbformat_minor": 5
}
