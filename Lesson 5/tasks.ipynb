{
 "cells": [
  {
   "cell_type": "code",
   "execution_count": 6,
   "metadata": {},
   "outputs": [
    {
     "name": "stdout",
     "output_type": "stream",
     "text": [
      "C:  -5.0\n",
      "F:  93.2\n"
     ]
    }
   ],
   "source": [
    "def convert_cel_to_far(C):\n",
    "    F = C * 9/5 + 32\n",
    "    return F\n",
    "\n",
    "def convert_far_to_cel(F):\n",
    "    C = (F - 32) * 5/9\n",
    "    return C\n",
    "\n",
    "f_input = int(input(\"Enter a temperature in degrees F: \"))\n",
    "print(\"C: \",convert_far_to_cel(f_input))\n",
    "c_input = int(input(\"Enter a temperature in degrees C: \"))\n",
    "print(\"F: \",convert_cel_to_far(c_input))"
   ]
  },
  {
   "cell_type": "code",
   "execution_count": 7,
   "metadata": {},
   "outputs": [
    {
     "name": "stdout",
     "output_type": "stream",
     "text": [
      "Year 1: $68.00\n",
      "Year 2: $136.00\n"
     ]
    }
   ],
   "source": [
    "def invest(amount, rate, years):\n",
    "    for year in range(1, years + 1):\n",
    "        amount += amount * rate\n",
    "        print(f\"Year {year}: ${amount:.2f}\")\n",
    "\n",
    "principal = float(input(\"Enter the principal amount: \"))\n",
    "annual_rate = float(input(\"Enter the annual rate of return (as a decimal): \"))\n",
    "years = int(input(\"Enter the number of years: \"))\n",
    "\n",
    "invest(principal, annual_rate, years)"
   ]
  },
  {
   "cell_type": "code",
   "execution_count": 8,
   "metadata": {},
   "outputs": [
    {
     "name": "stdout",
     "output_type": "stream",
     "text": [
      "1 is a factor of 4\n",
      "2 is a factor of 4\n",
      "4 is a factor of 4\n"
     ]
    }
   ],
   "source": [
    "n = int(input(\"Enter a positive integer: \"))\n",
    "\n",
    "for i in range(1, n + 1):\n",
    "    if n % i == 0:\n",
    "        print(f\"{i} is a factor of {n}\")"
   ]
  },
  {
   "cell_type": "code",
   "execution_count": 9,
   "metadata": {},
   "outputs": [
    {
     "name": "stdout",
     "output_type": "stream",
     "text": [
      "******************************\n",
      "Total students: 68,500\n",
      "Total tuition: $ 235,000\n",
      "\n",
      "Student mean: 11,416.67\n",
      "Student median: 11,250.0\n",
      "\n",
      "Tuition mean: $ 39,166.67\n",
      "Tuition median: $ 39,500.0\n",
      "******************************\n"
     ]
    }
   ],
   "source": [
    "def enrollment_stats(universities):\n",
    "    students = [uni[1] for uni in universities]\n",
    "    tuitions = [uni[2] for uni in universities]\n",
    "    return students, tuitions\n",
    "\n",
    "def mean(values):\n",
    "    return sum(values) / len(values)\n",
    "\n",
    "def median(values):\n",
    "    sorted_values = sorted(values)\n",
    "    n = len(values)\n",
    "    mid = n // 2\n",
    "    if n % 2 == 0: \n",
    "        return (sorted_values[mid - 1] + sorted_values[mid]) / 2\n",
    "    else:  \n",
    "        return sorted_values[mid]\n",
    "\n",
    "universities = [\n",
    "    [\"University A\", 10000, 40000],\n",
    "    [\"University B\", 15000, 35000],\n",
    "    [\"University C\", 12000, 42000],\n",
    "    [\"University D\", 8000, 39000],\n",
    "    [\"University E\", 13000, 38000],\n",
    "    [\"University F\", 10500, 41000]\n",
    "]\n",
    "\n",
    "students, tuitions = enrollment_stats(universities)\n",
    "\n",
    "print(\"******************************\")\n",
    "print(f\"Total students: {sum(students):,}\")\n",
    "print(f\"Total tuition: $ {sum(tuitions):,}\\n\")\n",
    "\n",
    "print(f\"Student mean: {mean(students):,.2f}\")\n",
    "print(f\"Student median: {median(students):,}\\n\")\n",
    "\n",
    "print(f\"Tuition mean: $ {mean(tuitions):,.2f}\")\n",
    "print(f\"Tuition median: $ {median(tuitions):,}\")\n",
    "print(\"******************************\")"
   ]
  },
  {
   "cell_type": "code",
   "execution_count": 10,
   "metadata": {},
   "outputs": [
    {
     "name": "stdout",
     "output_type": "stream",
     "text": [
      "True\n",
      "True\n",
      "False\n",
      "True\n",
      "False\n"
     ]
    }
   ],
   "source": [
    "def is_prime(n):\n",
    "    if n < 2: \n",
    "        return False\n",
    "    for i in range(2, int(n ** 0.5) + 1):  \n",
    "        if n % i == 0:\n",
    "            return False\n",
    "    return True\n",
    "\n",
    "print(is_prime(2))   \n",
    "print(is_prime(3))   \n",
    "print(is_prime(4))   \n",
    "print(is_prime(17))  \n",
    "print(is_prime(20))  "
   ]
  }
 ],
 "metadata": {
  "kernelspec": {
   "display_name": "Python 3",
   "language": "python",
   "name": "python3"
  },
  "language_info": {
   "codemirror_mode": {
    "name": "ipython",
    "version": 3
   },
   "file_extension": ".py",
   "mimetype": "text/x-python",
   "name": "python",
   "nbconvert_exporter": "python",
   "pygments_lexer": "ipython3",
   "version": "3.13.2"
  }
 },
 "nbformat": 4,
 "nbformat_minor": 2
}
