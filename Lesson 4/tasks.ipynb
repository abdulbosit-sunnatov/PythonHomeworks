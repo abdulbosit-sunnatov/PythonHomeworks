{
 "cells": [
  {
   "cell_type": "markdown",
   "metadata": {},
   "source": [
    "## Questions:\n",
    "- What is the difference between the continue and break statements in Python?\n",
    "- Can you explain the difference between for loop and while loop?\n",
    "- How would you implement a nested for loop system? Provide an example."
   ]
  },
  {
   "cell_type": "markdown",
   "metadata": {},
   "source": [
    "## Answers\n",
    "- Continue skips the rest of the current iteration and moves to the next iteration.\n",
    "Break exits the loop entirely.\n",
    "- For loop iterates over a sequence (like a list or range) and has a defined iteration count.\n",
    "While loop continues until a given condition is no longer true.\n",
    "- for i in range(3):\n",
    "    for j in range(2):\n",
    "        print(f\"i = {i}, j = {j}\")\n"
   ]
  },
  {
   "cell_type": "code",
   "execution_count": 9,
   "metadata": {},
   "outputs": [
    {
     "name": "stdout",
     "output_type": "stream",
     "text": [
      "[1, 1, 3, 4]\n",
      "[1, 2, 3, 4, 5, 6]\n",
      "[2, 2, 5]\n"
     ]
    }
   ],
   "source": [
    "def uncommon_elements(list1, list2):\n",
    "    uncommon = [x for x in list1 if x not in list2] + [x for x in list2 if x not in list1]\n",
    "    return uncommon\n",
    "\n",
    "print(uncommon_elements([1, 1, 2], [2, 3, 4]))        \n",
    "print(uncommon_elements([1, 2, 3], [4, 5, 6]))        \n",
    "print(uncommon_elements([1, 1, 2, 3, 4, 2], [1, 3, 4, 5])) \n"
   ]
  },
  {
   "cell_type": "code",
   "execution_count": 10,
   "metadata": {},
   "outputs": [
    {
     "name": "stdout",
     "output_type": "stream",
     "text": [
      "1\n",
      "4\n",
      "9\n",
      "16\n"
     ]
    }
   ],
   "source": [
    "def print_squares(n):\n",
    "    for i in range(1, n):\n",
    "        print(i ** 2)\n",
    "\n",
    "print_squares(5)\n"
   ]
  },
  {
   "cell_type": "code",
   "execution_count": 11,
   "metadata": {},
   "outputs": [
    {
     "name": "stdout",
     "output_type": "stream",
     "text": [
      "he_l_lo\n",
      "a_ss_a_lo_m\n",
      "a_bc_a_bc_da_b_cde_a_bc_de_f_a_bc_de_f_g\n"
     ]
    }
   ],
   "source": [
    "def insert_underscores(txt):\n",
    "    result = []\n",
    "    vowels = \"aeiouAEIOU\"\n",
    "    count = 0\n",
    "\n",
    "    for i, char in enumerate(txt):\n",
    "        result.append(char)\n",
    "        if (i + 1) % 3 == 0 or (char in vowels and (i + 1) % 3 != 0):\n",
    "            if i + 1 < len(txt): \n",
    "                result.append('_')\n",
    "    \n",
    "    return ''.join(result)\n",
    "\n",
    "print(insert_underscores(\"hello\"))           \n",
    "print(insert_underscores(\"assalom\"))           \n",
    "print(insert_underscores(\"abcabcdabcdeabcdefabcdefg\")) "
   ]
  },
  {
   "cell_type": "code",
   "execution_count": 14,
   "metadata": {},
   "outputs": [],
   "source": [
    "import random\n",
    "\n",
    "def guessing_game():\n",
    "    while True:\n",
    "        number = random.randint(1, 100)\n",
    "        attempts = 10\n",
    "\n",
    "        while attempts > 0:\n",
    "            guess = int(input(\"Guess a number between 1 and 100: \"))\n",
    "\n",
    "            if guess > number:\n",
    "                print(\"Too high!\")\n",
    "            elif guess < number:\n",
    "                print(\"Too low!\")\n",
    "            else:\n",
    "                print(\"You guessed it right!\")\n",
    "                break\n",
    "\n",
    "            attempts -= 1\n",
    "            print(f\"Attempts left: {attempts}\")\n",
    "\n",
    "        if attempts == 0:\n",
    "            print(\"You lost. Want to play again?\")\n",
    "            play_again = input(\"Type 'Y', 'YES', 'y', 'yes', 'ok' to play again: \")\n",
    "            if play_again.lower() not in ['y', 'yes', 'ok']:\n",
    "                break\n",
    "\n",
    "# guessing_game()\n"
   ]
  },
  {
   "cell_type": "code",
   "execution_count": 15,
   "metadata": {},
   "outputs": [
    {
     "name": "stdout",
     "output_type": "stream",
     "text": [
      "Password must contain an uppercase letter.\n"
     ]
    }
   ],
   "source": [
    "def check_password():\n",
    "    password = input(\"Enter your password: \")\n",
    "\n",
    "    if len(password) < 8:\n",
    "        print(\"Password is too short.\")\n",
    "    elif not any(char.isupper() for char in password):\n",
    "        print(\"Password must contain an uppercase letter.\")\n",
    "    else:\n",
    "        print(\"Password is strong.\")\n",
    "\n",
    "check_password()"
   ]
  },
  {
   "cell_type": "code",
   "execution_count": 16,
   "metadata": {},
   "outputs": [
    {
     "name": "stdout",
     "output_type": "stream",
     "text": [
      "2 3 5 7 11 13 17 19 23 29 31 37 41 43 47 53 59 61 67 71 73 79 83 89 97 "
     ]
    }
   ],
   "source": [
    "def prime_numbers():\n",
    "    for num in range(2, 101):\n",
    "        is_prime = True\n",
    "        for i in range(2, int(num ** 0.5) + 1):\n",
    "            if num % i == 0:\n",
    "                is_prime = False\n",
    "                break\n",
    "        if is_prime:\n",
    "            print(num, end=' ')\n",
    "\n",
    "prime_numbers()"
   ]
  },
  {
   "cell_type": "code",
   "execution_count": 17,
   "metadata": {},
   "outputs": [
    {
     "name": "stdout",
     "output_type": "stream",
     "text": [
      "Invalid choice! Try again.\n",
      "Computer chose: paper\n",
      "Computer wins this round!\n",
      "Scores -> You: 0 | Computer: 1\n",
      "Computer chose: paper\n",
      "Computer wins this round!\n",
      "Scores -> You: 0 | Computer: 2\n",
      "Computer chose: paper\n",
      "Computer wins this round!\n",
      "Scores -> You: 0 | Computer: 3\n",
      "Computer chose: rock\n",
      "It's a tie!\n",
      "Scores -> You: 0 | Computer: 3\n",
      "Computer chose: scissors\n",
      "Computer wins this round!\n",
      "Scores -> You: 0 | Computer: 4\n",
      "Computer chose: paper\n",
      "It's a tie!\n",
      "Scores -> You: 0 | Computer: 4\n",
      "Computer chose: scissors\n",
      "Computer wins this round!\n",
      "Scores -> You: 0 | Computer: 5\n",
      "Computer wins the match. Better luck next time!\n"
     ]
    }
   ],
   "source": [
    "import random\n",
    "\n",
    "def rock_paper_scissors():\n",
    "    choices = [\"rock\", \"paper\", \"scissors\"]\n",
    "    player_score = computer_score = 0\n",
    "\n",
    "    while player_score < 5 and computer_score < 5:\n",
    "        computer_choice = random.choice(choices)\n",
    "        player_choice = input(\"Choose rock, paper, or scissors: \").lower()\n",
    "\n",
    "        if player_choice not in choices:\n",
    "            print(\"Invalid choice! Try again.\")\n",
    "            continue\n",
    "\n",
    "        print(f\"Computer chose: {computer_choice}\")\n",
    "\n",
    "        if player_choice == computer_choice:\n",
    "            print(\"It's a tie!\")\n",
    "        elif (player_choice == \"rock\" and computer_choice == \"scissors\") or \\\n",
    "             (player_choice == \"paper\" and computer_choice == \"rock\") or \\\n",
    "             (player_choice == \"scissors\" and computer_choice == \"paper\"):\n",
    "            player_score += 1\n",
    "            print(\"You win this round!\")\n",
    "        else:\n",
    "            computer_score += 1\n",
    "            print(\"Computer wins this round!\")\n",
    "\n",
    "        print(f\"Scores -> You: {player_score} | Computer: {computer_score}\")\n",
    "\n",
    "    if player_score == 5:\n",
    "        print(\"Congratulations! You win the match!\")\n",
    "    else:\n",
    "        print(\"Computer wins the match. Better luck next time!\")\n",
    "\n",
    "rock_paper_scissors()\n"
   ]
  }
 ],
 "metadata": {
  "kernelspec": {
   "display_name": "Python 3",
   "language": "python",
   "name": "python3"
  },
  "language_info": {
   "codemirror_mode": {
    "name": "ipython",
    "version": 3
   },
   "file_extension": ".py",
   "mimetype": "text/x-python",
   "name": "python",
   "nbconvert_exporter": "python",
   "pygments_lexer": "ipython3",
   "version": "3.13.2"
  }
 },
 "nbformat": 4,
 "nbformat_minor": 2
}
