{
 "cells": [
  {
   "cell_type": "code",
   "execution_count": 6,
   "metadata": {},
   "outputs": [],
   "source": [
    "import numpy as np\n",
    "from PIL import Image\n",
    "import os"
   ]
  },
  {
   "cell_type": "code",
   "execution_count": 2,
   "metadata": {},
   "outputs": [
    {
     "name": "stdout",
     "output_type": "stream",
     "text": [
      "Fahrenheit: [ 32  68 100 212  77]\n",
      "Celsius: [  0.          20.          37.77777778 100.          25.        ]\n"
     ]
    }
   ],
   "source": [
    "#1\n",
    "\n",
    "def vectorized(func):\n",
    "    return np.vectorize(func)\n",
    "\n",
    "@vectorized\n",
    "def fahrenheit_to_celsius(f):\n",
    "    return (f - 32) * 5 / 9\n",
    "\n",
    "fahrenheit_values = np.array([32, 68, 100, 212, 77])\n",
    "\n",
    "celsius_values = fahrenheit_to_celsius(fahrenheit_values)\n",
    "\n",
    "print(\"Fahrenheit:\", fahrenheit_values)\n",
    "print(\"Celsius:\", celsius_values)\n"
   ]
  },
  {
   "cell_type": "code",
   "execution_count": 3,
   "metadata": {},
   "outputs": [
    {
     "name": "stdout",
     "output_type": "stream",
     "text": [
      "Array 1: [2 3 4 5]\n",
      "Array 2: [1 2 3 4]\n",
      "Power Values: [  2   9  64 625]\n"
     ]
    }
   ],
   "source": [
    "#2\n",
    "\n",
    "def vectorized(func):\n",
    "    return np.vectorize(func)\n",
    "\n",
    "@vectorized\n",
    "def nums_power(nums,power):\n",
    "    return nums ** power\n",
    "\n",
    "arr1 = np.array([2, 3, 4, 5])\n",
    "arr2 = np.array([1, 2, 3, 4])\n",
    "\n",
    "nums_power_values = nums_power(arr1, arr2)\n",
    "print(\"Array 1:\", arr1) \n",
    "print(\"Array 2:\", arr2)\n",
    "print(\"Power Values:\", nums_power_values)\n"
   ]
  },
  {
   "cell_type": "code",
   "execution_count": 4,
   "metadata": {},
   "outputs": [
    {
     "name": "stdout",
     "output_type": "stream",
     "text": [
      "[ 1.7027027   0.62162162 -0.48648649]\n"
     ]
    }
   ],
   "source": [
    "#3\n",
    "\n",
    "A = np.array([[4, 5, 6],\n",
    "              [3, -1, 1],\n",
    "              [2, 1, -2]])\n",
    "\n",
    "b = np.array([7, 4, 5])\n",
    "\n",
    "x = np.linalg.solve(A, b)\n",
    "\n",
    "print(x) "
   ]
  },
  {
   "cell_type": "code",
   "execution_count": 5,
   "metadata": {},
   "outputs": [
    {
     "name": "stdout",
     "output_type": "stream",
     "text": [
      "[ 0.48963731 -0.2253886   2.21761658]\n"
     ]
    }
   ],
   "source": [
    "#4 \n",
    "\n",
    "A = np.array([[10, -2, 3],\n",
    "              [-2, 8, -1],\n",
    "              [3, -1, 6]])\n",
    "\n",
    "b = np.array([12, -5, 15])\n",
    "\n",
    "x = np.linalg.solve(A, b)\n",
    "\n",
    "print(x) "
   ]
  },
  {
   "cell_type": "code",
   "execution_count": 10,
   "metadata": {},
   "outputs": [],
   "source": [
    "#5\n",
    "\n",
    "def flip_image(image_array):\n",
    "    return np.flipud(np.fliplr(image_array))\n",
    "\n",
    "def add_noise(image_array, noise_level=30):\n",
    "    noise = np.random.randint(-noise_level, noise_level + 1, image_array.shape, dtype=np.int16)\n",
    "    return np.clip(image_array + noise, 0, 255).astype(np.uint8)\n",
    "\n",
    "def brighten_channels(image_array, brightness_value=40):\n",
    "    return np.clip(image_array + brightness_value, 0, 255).astype(np.uint8)\n",
    "\n",
    "def apply_mask(image_array, mask_size=(100, 100)):\n",
    "    h, w, _ = image_array.shape\n",
    "    y_start, x_start = (h - mask_size[0]) // 2, (w - mask_size[1]) // 2\n",
    "    masked_image = image_array.copy()\n",
    "    masked_image[y_start:y_start + mask_size[0], x_start:x_start + mask_size[1]] = [0, 0, 0]\n",
    "    return masked_image\n",
    "\n",
    "def process_image(image_path, output_dir=\"output\"):\n",
    "    image = Image.open(image_path)\n",
    "    image_array = np.array(image)\n",
    "    os.makedirs(output_dir, exist_ok=True)\n",
    "    Image.fromarray(flip_image(image_array)).save(os.path.join(output_dir, \"flipped.jpg\"))\n",
    "    Image.fromarray(add_noise(image_array)).save(os.path.join(output_dir, \"noisy.jpg\"))\n",
    "    Image.fromarray(brighten_channels(image_array)).save(os.path.join(output_dir, \"brightened.jpg\"))\n",
    "    Image.fromarray(apply_mask(image_array)).save(os.path.join(output_dir, \"masked.jpg\"))\n",
    "\n",
    "process_image(\"images/birds.jpg\")"
   ]
  }
 ],
 "metadata": {
  "kernelspec": {
   "display_name": "base",
   "language": "python",
   "name": "python3"
  },
  "language_info": {
   "codemirror_mode": {
    "name": "ipython",
    "version": 3
   },
   "file_extension": ".py",
   "mimetype": "text/x-python",
   "name": "python",
   "nbconvert_exporter": "python",
   "pygments_lexer": "ipython3",
   "version": "3.12.9"
  }
 },
 "nbformat": 4,
 "nbformat_minor": 2
}
