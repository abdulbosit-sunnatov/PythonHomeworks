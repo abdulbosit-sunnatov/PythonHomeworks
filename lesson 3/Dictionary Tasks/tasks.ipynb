{
 "cells": [
  {
   "cell_type": "code",
   "execution_count": 1,
   "metadata": {},
   "outputs": [
    {
     "name": "stdout",
     "output_type": "stream",
     "text": [
      "1\n",
      "Not Found\n"
     ]
    }
   ],
   "source": [
    "def get_value(d, key, default=None):\n",
    "    return d.get(key, default)\n",
    "print(get_value({\"a\": 1, \"b\": 2}, \"a\"))\n",
    "print(get_value({\"a\": 1, \"b\": 2}, \"c\", \"Not Found\"))"
   ]
  },
  {
   "cell_type": "code",
   "execution_count": 2,
   "metadata": {},
   "outputs": [
    {
     "name": "stdout",
     "output_type": "stream",
     "text": [
      "True\n",
      "False\n"
     ]
    }
   ],
   "source": [
    "def check_key(d, key):\n",
    "    return key in d\n",
    "print(check_key({\"a\": 1, \"b\": 2}, \"b\"))\n",
    "print(check_key({\"a\": 1, \"b\": 2}, \"c\"))"
   ]
  },
  {
   "cell_type": "code",
   "execution_count": 3,
   "metadata": {},
   "outputs": [
    {
     "name": "stdout",
     "output_type": "stream",
     "text": [
      "3\n"
     ]
    }
   ],
   "source": [
    "def count_keys(d):\n",
    "    return len(d)\n",
    "print(count_keys({\"a\": 1, \"b\": 2, \"c\": 3}))"
   ]
  },
  {
   "cell_type": "code",
   "execution_count": 4,
   "metadata": {},
   "outputs": [
    {
     "name": "stdout",
     "output_type": "stream",
     "text": [
      "['a', 'b', 'c']\n"
     ]
    }
   ],
   "source": [
    "def get_all_keys(d):\n",
    "    return list(d.keys())\n",
    "print(get_all_keys({\"a\": 1, \"b\": 2, \"c\": 3}))\n"
   ]
  },
  {
   "cell_type": "code",
   "execution_count": 5,
   "metadata": {},
   "outputs": [
    {
     "name": "stdout",
     "output_type": "stream",
     "text": [
      "[1, 2, 3]\n"
     ]
    }
   ],
   "source": [
    "def get_all_values(d):\n",
    "    return list(d.values())\n",
    "print(get_all_values({\"a\": 1, \"b\": 2, \"c\": 3}))\n"
   ]
  },
  {
   "cell_type": "code",
   "execution_count": 6,
   "metadata": {},
   "outputs": [
    {
     "name": "stdout",
     "output_type": "stream",
     "text": [
      "{'a': 1, 'b': 2}\n"
     ]
    }
   ],
   "source": [
    "def merge_dicts(d1, d2):\n",
    "    return {**d1, **d2}\n",
    "print(merge_dicts({\"a\": 1}, {\"b\": 2}))"
   ]
  },
  {
   "cell_type": "code",
   "execution_count": 7,
   "metadata": {},
   "outputs": [
    {
     "name": "stdout",
     "output_type": "stream",
     "text": [
      "{'b': 2}\n"
     ]
    }
   ],
   "source": [
    "def remove_key(d, key):\n",
    "    d.pop(key, None)\n",
    "sample_dict = {\"a\": 1, \"b\": 2}\n",
    "remove_key(sample_dict, \"a\")\n",
    "print(sample_dict)"
   ]
  },
  {
   "cell_type": "code",
   "execution_count": 8,
   "metadata": {},
   "outputs": [
    {
     "name": "stdout",
     "output_type": "stream",
     "text": [
      "{}\n"
     ]
    }
   ],
   "source": [
    "def clear_dict():\n",
    "    return {}\n",
    "print(clear_dict())\n"
   ]
  },
  {
   "cell_type": "code",
   "execution_count": 9,
   "metadata": {},
   "outputs": [
    {
     "name": "stdout",
     "output_type": "stream",
     "text": [
      "True\n",
      "False\n"
     ]
    }
   ],
   "source": [
    "def is_dict_empty(d):\n",
    "    return len(d) == 0\n",
    "print(is_dict_empty({}))\n",
    "print(is_dict_empty({\"a\": 1}))"
   ]
  },
  {
   "cell_type": "code",
   "execution_count": 10,
   "metadata": {},
   "outputs": [
    {
     "name": "stdout",
     "output_type": "stream",
     "text": [
      "('b', 2)\n",
      "None\n"
     ]
    }
   ],
   "source": [
    "def get_key_value(d, key):\n",
    "    return (key, d[key]) if key in d else None\n",
    "print(get_key_value({\"a\": 1, \"b\": 2}, \"b\"))\n",
    "print(get_key_value({\"a\": 1, \"b\": 2}, \"c\"))\n"
   ]
  },
  {
   "cell_type": "code",
   "execution_count": 11,
   "metadata": {},
   "outputs": [
    {
     "name": "stdout",
     "output_type": "stream",
     "text": [
      "{'a': 10}\n"
     ]
    }
   ],
   "source": [
    "def update_value(d, key, value):\n",
    "    d[key] = value\n",
    "sample_dict = {\"a\": 1}\n",
    "update_value(sample_dict, \"a\", 10)\n",
    "print(sample_dict)"
   ]
  },
  {
   "cell_type": "code",
   "execution_count": 12,
   "metadata": {},
   "outputs": [
    {
     "name": "stdout",
     "output_type": "stream",
     "text": [
      "2\n"
     ]
    }
   ],
   "source": [
    "def count_value_occurrences(d, value):\n",
    "    return list(d.values()).count(value)\n",
    "print(count_value_occurrences({\"a\": 1, \"b\": 2, \"c\": 1}, 1))"
   ]
  },
  {
   "cell_type": "code",
   "execution_count": 13,
   "metadata": {},
   "outputs": [
    {
     "name": "stdout",
     "output_type": "stream",
     "text": [
      "{1: 'a', 2: 'b'}\n"
     ]
    }
   ],
   "source": [
    "def invert_dict(d):\n",
    "    return {v: k for k, v in d.items()}\n",
    "print(invert_dict({\"a\": 1, \"b\": 2}))"
   ]
  },
  {
   "cell_type": "code",
   "execution_count": 14,
   "metadata": {},
   "outputs": [
    {
     "name": "stdout",
     "output_type": "stream",
     "text": [
      "['a', 'c']\n"
     ]
    }
   ],
   "source": [
    "def find_keys_with_value(d, value):\n",
    "    return [k for k, v in d.items() if v == value]\n",
    "print(find_keys_with_value({\"a\": 1, \"b\": 2, \"c\": 1}, 1))"
   ]
  },
  {
   "cell_type": "code",
   "execution_count": 15,
   "metadata": {},
   "outputs": [
    {
     "name": "stdout",
     "output_type": "stream",
     "text": [
      "{'a': 1, 'b': 2, 'c': 3}\n"
     ]
    }
   ],
   "source": [
    "def create_dict_from_lists(keys, values):\n",
    "    return dict(zip(keys, values))\n",
    "print(create_dict_from_lists([\"a\", \"b\", \"c\"], [1, 2, 3]))"
   ]
  },
  {
   "cell_type": "code",
   "execution_count": 16,
   "metadata": {},
   "outputs": [
    {
     "name": "stdout",
     "output_type": "stream",
     "text": [
      "True\n"
     ]
    }
   ],
   "source": [
    "def has_nested_dict(d):\n",
    "    return any(isinstance(v, dict) for v in d.values())\n",
    "print(has_nested_dict({\"a\": 1, \"b\": {\"nested\": 2}}))"
   ]
  },
  {
   "cell_type": "code",
   "execution_count": 17,
   "metadata": {},
   "outputs": [
    {
     "name": "stdout",
     "output_type": "stream",
     "text": [
      "3\n"
     ]
    }
   ],
   "source": [
    "def get_nested_value(d, *keys):\n",
    "    for key in keys:\n",
    "        if isinstance(d, dict) and key in d:\n",
    "            d = d[key]\n",
    "        else:\n",
    "            return None\n",
    "    return d\n",
    "print(get_nested_value({\"a\": {\"b\": {\"c\": 3}}}, \"a\", \"b\", \"c\"))"
   ]
  },
  {
   "cell_type": "code",
   "execution_count": 18,
   "metadata": {},
   "outputs": [
    {
     "name": "stdout",
     "output_type": "stream",
     "text": [
      "0\n"
     ]
    }
   ],
   "source": [
    "from collections import defaultdict\n",
    "def create_default_dict(default_value):\n",
    "    return defaultdict(lambda: default_value)\n",
    "dd = create_default_dict(0)\n",
    "print(dd[\"missing\"])"
   ]
  },
  {
   "cell_type": "code",
   "execution_count": 19,
   "metadata": {},
   "outputs": [
    {
     "name": "stdout",
     "output_type": "stream",
     "text": [
      "2\n"
     ]
    }
   ],
   "source": [
    "def count_unique_values(d):\n",
    "    return len(set(d.values()))\n",
    "print(count_unique_values({\"a\": 1, \"b\": 2, \"c\": 1}))\n"
   ]
  },
  {
   "cell_type": "code",
   "execution_count": 20,
   "metadata": {},
   "outputs": [
    {
     "name": "stdout",
     "output_type": "stream",
     "text": [
      "{'a': 1, 'b': 2, 'c': 3}\n"
     ]
    }
   ],
   "source": [
    "def sort_dict_by_key(d):\n",
    "    return dict(sorted(d.items()))\n",
    "print(sort_dict_by_key({\"b\": 2, \"a\": 1, \"c\": 3}))"
   ]
  },
  {
   "cell_type": "code",
   "execution_count": 21,
   "metadata": {},
   "outputs": [
    {
     "name": "stdout",
     "output_type": "stream",
     "text": [
      "{'b': 1, 'c': 2, 'a': 3}\n"
     ]
    }
   ],
   "source": [
    "def sort_dict_by_value(d):\n",
    "    return dict(sorted(d.items(), key=lambda item: item[1]))\n",
    "print(sort_dict_by_value({\"a\": 3, \"b\": 1, \"c\": 2}))\n"
   ]
  },
  {
   "cell_type": "code",
   "execution_count": 22,
   "metadata": {},
   "outputs": [
    {
     "name": "stdout",
     "output_type": "stream",
     "text": [
      "{'b': 2, 'c': 3}\n"
     ]
    }
   ],
   "source": [
    "def filter_by_value(d, condition):\n",
    "    return {k: v for k, v in d.items() if condition(v)}\n",
    "print(filter_by_value({\"a\": 1, \"b\": 2, \"c\": 3}, lambda x: x > 1))\n"
   ]
  },
  {
   "cell_type": "code",
   "execution_count": 23,
   "metadata": {},
   "outputs": [
    {
     "name": "stdout",
     "output_type": "stream",
     "text": [
      "True\n"
     ]
    }
   ],
   "source": [
    "def check_common_keys(d1, d2):\n",
    "    return not set(d1.keys()).isdisjoint(d2.keys())\n",
    "print(check_common_keys({\"a\": 1, \"b\": 2}, {\"b\": 3, \"c\": 4}))\n"
   ]
  },
  {
   "cell_type": "code",
   "execution_count": 24,
   "metadata": {},
   "outputs": [
    {
     "name": "stdout",
     "output_type": "stream",
     "text": [
      "{'a': 1, 'b': 2}\n"
     ]
    }
   ],
   "source": [
    "def dict_from_tuple(tpl):\n",
    "    return dict(tpl)\n",
    "print(dict_from_tuple([(\"a\", 1), (\"b\", 2)]))\n"
   ]
  },
  {
   "cell_type": "code",
   "execution_count": 25,
   "metadata": {},
   "outputs": [
    {
     "name": "stdout",
     "output_type": "stream",
     "text": [
      "('a', 1)\n",
      "None\n"
     ]
    }
   ],
   "source": [
    "def get_first_pair(d):\n",
    "    return next(iter(d.items())) if d else None\n",
    "print(get_first_pair({\"a\": 1, \"b\": 2}))\n",
    "print(get_first_pair({}))"
   ]
  }
 ],
 "metadata": {
  "kernelspec": {
   "display_name": "Python 3",
   "language": "python",
   "name": "python3"
  },
  "language_info": {
   "codemirror_mode": {
    "name": "ipython",
    "version": 3
   },
   "file_extension": ".py",
   "mimetype": "text/x-python",
   "name": "python",
   "nbconvert_exporter": "python",
   "pygments_lexer": "ipython3",
   "version": "3.13.2"
  }
 },
 "nbformat": 4,
 "nbformat_minor": 2
}
