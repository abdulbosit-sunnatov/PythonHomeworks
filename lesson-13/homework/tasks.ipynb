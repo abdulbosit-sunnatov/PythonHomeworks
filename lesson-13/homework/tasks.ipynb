{
 "cells": [
  {
   "cell_type": "code",
   "execution_count": 2,
   "metadata": {},
   "outputs": [],
   "source": [
    "import numpy as np"
   ]
  },
  {
   "cell_type": "code",
   "execution_count": 4,
   "metadata": {},
   "outputs": [
    {
     "data": {
      "text/plain": [
       "array([10, 11, 12, 13, 14, 15, 16, 17, 18, 19, 20, 21, 22, 23, 24, 25, 26,\n",
       "       27, 28, 29, 30, 31, 32, 33, 34, 35, 36, 37, 38, 39, 40, 41, 42, 43,\n",
       "       44, 45, 46, 47, 48, 49])"
      ]
     },
     "execution_count": 4,
     "metadata": {},
     "output_type": "execute_result"
    }
   ],
   "source": [
    "# 1\n",
    "vector = np.arange(10, 50) \n",
    "vector"
   ]
  },
  {
   "cell_type": "code",
   "execution_count": 5,
   "metadata": {},
   "outputs": [
    {
     "data": {
      "text/plain": [
       "array([[0, 1, 2],\n",
       "       [3, 4, 5],\n",
       "       [6, 7, 8]])"
      ]
     },
     "execution_count": 5,
     "metadata": {},
     "output_type": "execute_result"
    }
   ],
   "source": [
    "#2\n",
    "matrix = np.arange(0, 9).reshape(3, 3)\n",
    "matrix"
   ]
  },
  {
   "cell_type": "code",
   "execution_count": 6,
   "metadata": {},
   "outputs": [
    {
     "data": {
      "text/plain": [
       "array([[1., 0., 0.],\n",
       "       [0., 1., 0.],\n",
       "       [0., 0., 1.]])"
      ]
     },
     "execution_count": 6,
     "metadata": {},
     "output_type": "execute_result"
    }
   ],
   "source": [
    "#3\n",
    "np.eye(3, 3)"
   ]
  },
  {
   "cell_type": "code",
   "execution_count": null,
   "metadata": {},
   "outputs": [
    {
     "data": {
      "text/plain": [
       "array([[[5, 3, 9],\n",
       "        [4, 2, 0],\n",
       "        [3, 7, 9]],\n",
       "\n",
       "       [[2, 5, 9],\n",
       "        [7, 2, 2],\n",
       "        [9, 0, 0]],\n",
       "\n",
       "       [[8, 7, 1],\n",
       "        [2, 8, 4],\n",
       "        [2, 5, 5]]], dtype=int32)"
      ]
     },
     "execution_count": 7,
     "metadata": {},
     "output_type": "execute_result"
    }
   ],
   "source": [
    "#4\n",
    "np.random.randint(0, 10, (3, 3, 3))"
   ]
  },
  {
   "cell_type": "code",
   "execution_count": 15,
   "metadata": {},
   "outputs": [
    {
     "name": "stdout",
     "output_type": "stream",
     "text": [
      "[[16 10 15  8  1 16 18 17  2 18]\n",
      " [ 0 14  5  9 18 11  7  9  6 18]\n",
      " [ 1 20 14 12 20 19  1  9  8  2]\n",
      " [ 1 20 11  9 18 12  8  5 15 18]\n",
      " [11 11  3 16 15 15 11  3  2 14]\n",
      " [ 2 14  7 17  6  1 18  3 20  3]\n",
      " [14  8  3 16  5 17  2  9 17  5]\n",
      " [19  7  5  8  3 13 12 13  8  8]\n",
      " [ 8 12  2  2 15 15  8  8  0 10]\n",
      " [ 8  8 10 15 12 14 11  1 11  5]]\n",
      "Max number: 20\n",
      "Min number: 0\n"
     ]
    }
   ],
   "source": [
    "#5\n",
    "array_10 = np.random.randint(0,21,(10,10))\n",
    "\n",
    "maxnum = array_10.max()\n",
    "minnum = array_10.min()\n",
    "\n",
    "print(array_10)\n",
    "print(\"Max number:\", maxnum)\n",
    "print(\"Min number:\", minnum)    "
   ]
  },
  {
   "cell_type": "code",
   "execution_count": 18,
   "metadata": {},
   "outputs": [
    {
     "name": "stdout",
     "output_type": "stream",
     "text": [
      "0.47138268924034726\n"
     ]
    }
   ],
   "source": [
    "#6\n",
    "random_vec = np.random.rand(30)\n",
    "\n",
    "mean = random_vec.mean()\n",
    "\n",
    "print(mean)"
   ]
  },
  {
   "cell_type": "code",
   "execution_count": 19,
   "metadata": {},
   "outputs": [
    {
     "name": "stdout",
     "output_type": "stream",
     "text": [
      "Original Matrix:\n",
      " [[0.60666267 0.30740228 0.77256216 0.92421447 0.07000433]\n",
      " [0.26375816 0.24123983 0.20216737 0.10454434 0.35954248]\n",
      " [0.42994094 0.01039923 0.52323163 0.91919661 0.5795934 ]\n",
      " [0.46636864 0.26481761 0.09141127 0.91257928 0.12123207]\n",
      " [0.33512395 0.05635848 0.36613535 0.69966082 0.30991008]]\n",
      "\n",
      "Normalized Matrix:\n",
      " [[0.6524989  0.32501434 0.83404489 1.         0.06522665]\n",
      " [0.277254   0.2526119  0.20985439 0.10302423 0.38207204]\n",
      " [0.45911    0.         0.56119922 0.99450889 0.62287664]\n",
      " [0.49897331 0.27841338 0.08865254 0.98726746 0.12128583]\n",
      " [0.35535052 0.05029381 0.3892867  0.754268   0.32775865]]\n"
     ]
    }
   ],
   "source": [
    "#7\n",
    "matrix = np.random.rand(5, 5)\n",
    "\n",
    "normalized_matrix = (matrix - np.min(matrix)) / (np.max(matrix) - np.min(matrix))\n",
    "\n",
    "print(\"Original Matrix:\\n\", matrix)\n",
    "print(\"\\nNormalized Matrix:\\n\", normalized_matrix)"
   ]
  },
  {
   "cell_type": "code",
   "execution_count": 21,
   "metadata": {},
   "outputs": [
    {
     "data": {
      "text/plain": [
       "array([[0.55324483, 0.93012404],\n",
       "       [0.51197127, 0.92109555],\n",
       "       [0.86516932, 1.36121369],\n",
       "       [0.52098254, 0.98294878],\n",
       "       [0.37606057, 0.64991647]])"
      ]
     },
     "execution_count": 21,
     "metadata": {},
     "output_type": "execute_result"
    }
   ],
   "source": [
    "#8 \n",
    "matrix_5_3 = np.random.rand(5, 3)\n",
    "matrix_3_2 = np.random.rand(3, 2)\n",
    "result = matrix_5_3 @ matrix_3_2\n",
    "result"
   ]
  },
  {
   "cell_type": "code",
   "execution_count": 23,
   "metadata": {},
   "outputs": [
    {
     "name": "stdout",
     "output_type": "stream",
     "text": [
      "Matrix 1:\n",
      " [[0.28392903 0.34490218 0.09631838]\n",
      " [0.59030139 0.84121304 0.96288565]\n",
      " [0.00159441 0.11056177 0.82020539]]\n",
      "Matrix 2:\n",
      " [[0.14839523 0.16066497 0.41577702]\n",
      " [0.4141168  0.18927271 0.47081611]\n",
      " [0.2524157  0.35871541 0.94502591]]\n"
     ]
    },
    {
     "data": {
      "text/plain": [
       "array([[0.20927577, 0.14544891, 0.37146004],\n",
       "       [0.67900582, 0.59946135, 1.55144229],\n",
       "       [0.2530548 , 0.31540281, 0.82783253]])"
      ]
     },
     "execution_count": 23,
     "metadata": {},
     "output_type": "execute_result"
    }
   ],
   "source": [
    "#9\n",
    "matrix1 = np.random.rand(3, 3)\n",
    "matrix2 = np.random.rand(3, 3) \n",
    "print(\"Matrix 1:\\n\", matrix1)\n",
    "print(\"Matrix 2:\\n\", matrix2)   \n",
    "result = np.dot(matrix1, matrix2)\n",
    "result"
   ]
  },
  {
   "cell_type": "code",
   "execution_count": 24,
   "metadata": {},
   "outputs": [
    {
     "name": "stdout",
     "output_type": "stream",
     "text": [
      "Original Matrix:\n",
      " [[0.0211108  0.66043263 0.69752036 0.43287262]\n",
      " [0.65230961 0.88914876 0.7125016  0.96420673]\n",
      " [0.7805454  0.24785373 0.32041704 0.35558476]\n",
      " [0.79280463 0.41481471 0.61820681 0.29682761]]\n",
      "\n",
      "Transposed Matrix:\n",
      " [[0.0211108  0.65230961 0.7805454  0.79280463]\n",
      " [0.66043263 0.88914876 0.24785373 0.41481471]\n",
      " [0.69752036 0.7125016  0.32041704 0.61820681]\n",
      " [0.43287262 0.96420673 0.35558476 0.29682761]]\n"
     ]
    }
   ],
   "source": [
    "#10\n",
    "matrix = np.random.rand(4, 4)\n",
    "print(\"Original Matrix:\\n\", matrix)\n",
    "transposed_one = matrix.T\n",
    "print(\"\\nTransposed Matrix:\\n\", transposed_one)"
   ]
  },
  {
   "cell_type": "code",
   "execution_count": 26,
   "metadata": {},
   "outputs": [
    {
     "name": "stdout",
     "output_type": "stream",
     "text": [
      "Matrix:\n",
      " [[0.74004231 0.79277459 0.51940121]\n",
      " [0.05364613 0.8454568  0.38931693]\n",
      " [0.56972744 0.19684739 0.55559129]]\n",
      "Determinant: 0.19841689827013262\n"
     ]
    }
   ],
   "source": [
    "#11\n",
    "matrix = np.random.rand(3, 3)\n",
    "determinant = np.linalg.det(matrix)\n",
    "print(\"Matrix:\\n\", matrix)\n",
    "print(\"Determinant:\", determinant)"
   ]
  },
  {
   "cell_type": "code",
   "execution_count": null,
   "metadata": {},
   "outputs": [
    {
     "name": "stdout",
     "output_type": "stream",
     "text": [
      "Matrix A:\n",
      " [[0.18294421 0.15068303 0.09977491 0.53420182]\n",
      " [0.32489569 0.85285533 0.55258227 0.56676235]\n",
      " [0.81752991 0.70597912 0.92121397 0.02756456]]\n",
      "Matrix B:\n",
      " [[0.53791864 0.33378746 0.33139827]\n",
      " [0.00280729 0.70658661 0.91983827]\n",
      " [0.95266823 0.41214152 0.91186483]\n",
      " [0.45612581 0.99213287 0.58248202]]\n",
      "Result:\n",
      " [[0.43754774 0.73865566 0.6013756 ]\n",
      " [0.96210418 1.50110792 1.72616806]\n",
      " [1.33193065 1.17873485 1.77639309]]\n"
     ]
    }
   ],
   "source": [
    "#12\n",
    "\n",
    "A = np.random.rand(3, 4) \n",
    "B = np.random.rand(4, 3)  \n",
    "print(\"Matrix A:\\n\", A)\n",
    "print(\"Matrix B:\\n\", B)\n",
    "result = np.dot(A, B)\n",
    "print(\"Result:\\n\", result)"
   ]
  },
  {
   "cell_type": "code",
   "execution_count": null,
   "metadata": {},
   "outputs": [
    {
     "name": "stdout",
     "output_type": "stream",
     "text": [
      "Matrix (3x3):\n",
      " [[0.42542011 0.04572771 0.14786539]\n",
      " [0.05397821 0.34559562 0.32335495]\n",
      " [0.76427444 0.64042099 0.35720765]]\n",
      "\n",
      "Column Vector (3x1):\n",
      " [[0.23672606]\n",
      " [0.54830512]\n",
      " [0.15446221]]\n",
      "\n",
      "Resultant Matrix-Vector Product (3x1):\n",
      " [[0.14862038]\n",
      " [0.25221601]\n",
      " [0.58724486]]\n"
     ]
    }
   ],
   "source": [
    "#13\n",
    "matrix = np.random.rand(3, 3)\n",
    "\n",
    "vector = np.random.rand(3, 1)\n",
    "\n",
    "result = matrix @ vector \n",
    "\n",
    "print(\"Matrix (3x3):\\n\", matrix)\n",
    "print(\"\\nColumn Vector (3x1):\\n\", vector)\n",
    "print(\"\\nResultant Matrix-Vector Product (3x1):\\n\", result)\n"
   ]
  },
  {
   "cell_type": "code",
   "execution_count": 38,
   "metadata": {},
   "outputs": [
    {
     "name": "stdout",
     "output_type": "stream",
     "text": [
      "Matrix A (3x3):\n",
      " [[0.89647937 0.49391455 0.7028465 ]\n",
      " [0.45713866 0.7010929  0.58321162]\n",
      " [0.41767363 0.82998018 0.34430445]]\n",
      "\n",
      "Column Vector b (3x1):\n",
      " [[0.92683101]\n",
      " [0.0021132 ]\n",
      " [0.41624333]]\n",
      "\n",
      "Solution x (3x1):\n",
      " [[ 2.70999711]\n",
      " [ 0.03476443]\n",
      " [-2.16234435]]\n"
     ]
    }
   ],
   "source": [
    "#14\n",
    "A = np.random.rand(3, 3)\n",
    "\n",
    "b = np.random.rand(3, 1)\n",
    "\n",
    "x = np.linalg.solve(A, b)\n",
    "\n",
    "print(\"Matrix A (3x3):\\n\", A)\n",
    "print(\"\\nColumn Vector b (3x1):\\n\", b)\n",
    "print(\"\\nSolution x (3x1):\\n\", x)"
   ]
  },
  {
   "cell_type": "code",
   "execution_count": null,
   "metadata": {},
   "outputs": [
    {
     "name": "stdout",
     "output_type": "stream",
     "text": [
      "Matrix (5x5):\n",
      " [[5 2 3 5 2]\n",
      " [4 5 4 4 3]\n",
      " [1 3 2 2 5]\n",
      " [2 5 4 4 4]\n",
      " [1 2 3 3 3]]\n",
      "\n",
      "Row-wise sum:\n",
      " [17 20 13 19 12]\n",
      "\n",
      "Column-wise sum:\n",
      " [13 17 16 18 17]\n"
     ]
    }
   ],
   "source": [
    "#15\n",
    "matrix_5_5 = np.random.randint(1,6,(5, 5))\n",
    "\n",
    "row_wise_sum = matrix_5_5.sum(axis=1)\n",
    "column_wise_sum = matrix_5_5.sum(axis=0)\n",
    "\n",
    "print(\"Matrix (5x5):\\n\", matrix_5_5)\n",
    "print(\"\\nRow-wise sum:\\n\", row_wise_sum)\n",
    "print(\"\\nColumn-wise sum:\\n\", column_wise_sum)"
   ]
  }
 ],
 "metadata": {
  "kernelspec": {
   "display_name": "base",
   "language": "python",
   "name": "python3"
  },
  "language_info": {
   "codemirror_mode": {
    "name": "ipython",
    "version": 3
   },
   "file_extension": ".py",
   "mimetype": "text/x-python",
   "name": "python",
   "nbconvert_exporter": "python",
   "pygments_lexer": "ipython3",
   "version": "3.12.9"
  }
 },
 "nbformat": 4,
 "nbformat_minor": 2
}
