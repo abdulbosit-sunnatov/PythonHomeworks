{
 "cells": [
  {
   "cell_type": "markdown",
   "metadata": {},
   "source": [
    "### List Tasks"
   ]
  },
  {
   "cell_type": "code",
   "execution_count": null,
   "metadata": {},
   "outputs": [
    {
     "name": "stdout",
     "output_type": "stream",
     "text": [
      "2 appears 4 times in the list.\n"
     ]
    }
   ],
   "source": [
    "def count_occurrences(lst, element):\n",
    "    return lst.count(element)\n",
    "\n",
    "numbers = [1, 2, 3, 4, 2, 2, 5, 2]\n",
    "\n",
    "element = 2\n",
    "print(f\"{element} appears {count_occurrences(numbers, element)} times in the list.\")"
   ]
  },
  {
   "cell_type": "code",
   "execution_count": null,
   "metadata": {},
   "outputs": [
    {
     "name": "stdout",
     "output_type": "stream",
     "text": [
      "The total of all elements is: 15\n"
     ]
    }
   ],
   "source": [
    "def calculate_total(numbers):\n",
    "    return sum(numbers)\n",
    "\n",
    "numbers = [1, 2, 3, 4, 5]\n",
    "print(f\"The total of all elements is: {calculate_total(numbers)}\")\n"
   ]
  },
  {
   "cell_type": "code",
   "execution_count": 33,
   "metadata": {},
   "outputs": [
    {
     "data": {
      "text/plain": [
       "9"
      ]
     },
     "execution_count": 33,
     "metadata": {},
     "output_type": "execute_result"
    }
   ],
   "source": [
    "nums = [1,2,3,4,5,6,7,8,9]\n",
    "\n",
    "max(nums)\n"
   ]
  },
  {
   "cell_type": "code",
   "execution_count": 34,
   "metadata": {},
   "outputs": [
    {
     "data": {
      "text/plain": [
       "1"
      ]
     },
     "execution_count": 34,
     "metadata": {},
     "output_type": "execute_result"
    }
   ],
   "source": [
    "nums = [1,2,3,4,5,6,7,8,9]\n",
    "\n",
    "min(nums)\n"
   ]
  },
  {
   "cell_type": "code",
   "execution_count": 35,
   "metadata": {},
   "outputs": [
    {
     "data": {
      "text/plain": [
       "'Exist'"
      ]
     },
     "execution_count": 35,
     "metadata": {},
     "output_type": "execute_result"
    }
   ],
   "source": [
    "def is_exist(lst, element):\n",
    "    return \"Exist\" if element in lst else \"Not exist\"\n",
    "\n",
    "nums = [1,2,3,4,5,6,7,8,9]\n",
    "element = 2\n",
    "\n",
    "is_exist(nums, element)"
   ]
  },
  {
   "cell_type": "code",
   "execution_count": 36,
   "metadata": {},
   "outputs": [
    {
     "name": "stdout",
     "output_type": "stream",
     "text": [
      "First element: 10\n",
      "Last element: 50\n",
      "First element of empty list: None\n",
      "Last element of empty list: None\n"
     ]
    }
   ],
   "source": [
    "def first_element(lst):\n",
    "    return lst[0] if lst else None  \n",
    "\n",
    "def last_element(lst):\n",
    "    return lst[-1] if lst else None \n",
    "\n",
    "numbers = [10, 20, 30, 40, 50]\n",
    "empty_list = []\n",
    "\n",
    "print(f\"First element: {first_element(numbers)}\")       \n",
    "print(f\"Last element: {last_element(numbers)}\")        \n",
    "print(f\"First element of empty list: {first_element(empty_list)}\")  \n",
    "print(f\"Last element of empty list: {last_element(empty_list)}\")   "
   ]
  },
  {
   "cell_type": "code",
   "execution_count": 37,
   "metadata": {},
   "outputs": [
    {
     "name": "stdout",
     "output_type": "stream",
     "text": [
      "[10, 20, 30]\n"
     ]
    }
   ],
   "source": [
    "def slice_list(lst):\n",
    "    return lst[:3]\n",
    "\n",
    "print(slice_list([10, 20, 30, 40, 50])) \n"
   ]
  },
  {
   "cell_type": "code",
   "execution_count": 38,
   "metadata": {},
   "outputs": [
    {
     "name": "stdout",
     "output_type": "stream",
     "text": [
      "[4, 3, 2, 1]\n"
     ]
    }
   ],
   "source": [
    "def reverse_list(lst):\n",
    "    return lst[::-1]\n",
    "\n",
    "print(reverse_list([1, 2, 3, 4])) \n"
   ]
  },
  {
   "cell_type": "code",
   "execution_count": 39,
   "metadata": {},
   "outputs": [
    {
     "name": "stdout",
     "output_type": "stream",
     "text": [
      "[1, 2, 3, 5, 8]\n"
     ]
    }
   ],
   "source": [
    "def sort_list(lst):\n",
    "    return sorted(lst)\n",
    "\n",
    "print(sort_list([5, 2, 8, 1, 3])) "
   ]
  },
  {
   "cell_type": "code",
   "execution_count": 4,
   "metadata": {},
   "outputs": [
    {
     "data": {
      "text/plain": [
       "[1, 2, 3, 4, 5]"
      ]
     },
     "execution_count": 4,
     "metadata": {},
     "output_type": "execute_result"
    }
   ],
   "source": [
    "def remove_duplicates(lst):\n",
    "    return list(set(lst))\n",
    "\n",
    "remove_duplicates([1, 2, 2, 3, 4, 4, 5])\n"
   ]
  },
  {
   "cell_type": "code",
   "execution_count": 49,
   "metadata": {},
   "outputs": [
    {
     "name": "stdout",
     "output_type": "stream",
     "text": [
      "[10, 15, 20, 30]\n"
     ]
    }
   ],
   "source": [
    "def insert_element(lst, index, element):\n",
    "    lst.insert(index, element)\n",
    "    return lst\n",
    "\n",
    "print(insert_element([10, 20, 30], 1, 15))  "
   ]
  },
  {
   "cell_type": "code",
   "execution_count": 50,
   "metadata": {},
   "outputs": [
    {
     "name": "stdout",
     "output_type": "stream",
     "text": [
      "2\n"
     ]
    }
   ],
   "source": [
    "def index_of_element(lst, element):\n",
    "    return lst.index(element) if element in lst else -1\n",
    "\n",
    "print(index_of_element([1, 2, 3, 4], 3)) \n"
   ]
  },
  {
   "cell_type": "code",
   "execution_count": 51,
   "metadata": {},
   "outputs": [
    {
     "name": "stdout",
     "output_type": "stream",
     "text": [
      "True\n",
      "False\n"
     ]
    }
   ],
   "source": [
    "def is_empty(lst):\n",
    "    return len(lst) == 0\n",
    "\n",
    "print(is_empty([]))    \n",
    "print(is_empty([1, 2, 3])) "
   ]
  },
  {
   "cell_type": "code",
   "execution_count": 3,
   "metadata": {},
   "outputs": [
    {
     "name": "stdout",
     "output_type": "stream",
     "text": [
      "3\n"
     ]
    }
   ],
   "source": [
    "def count_even(lst):\n",
    "    return sum(1 for x in lst if x % 2 == 0)\n",
    "\n",
    "print(count_even([1, 2, 3, 4, 5, 6]))"
   ]
  },
  {
   "cell_type": "code",
   "execution_count": 2,
   "metadata": {},
   "outputs": [
    {
     "name": "stdout",
     "output_type": "stream",
     "text": [
      "3\n"
     ]
    }
   ],
   "source": [
    "def count_odd(lst):\n",
    "    return sum(1 for x in lst if x % 2 != 0)\n",
    "\n",
    "print(count_odd([1, 2, 3, 4, 5, 6]))"
   ]
  },
  {
   "cell_type": "code",
   "execution_count": 67,
   "metadata": {},
   "outputs": [
    {
     "name": "stdout",
     "output_type": "stream",
     "text": [
      "[1, 2, 3, 4]\n"
     ]
    }
   ],
   "source": [
    "def concatenate_lists(lst1, lst2):\n",
    "    return lst1 + lst2\n",
    "\n",
    "print(concatenate_lists([1, 2], [3, 4]))  "
   ]
  },
  {
   "cell_type": "code",
   "execution_count": 68,
   "metadata": {},
   "outputs": [
    {
     "name": "stdout",
     "output_type": "stream",
     "text": [
      "True\n",
      "False\n"
     ]
    }
   ],
   "source": [
    "def find_sublist(lst, sublist):\n",
    "    return str(sublist)[1:-1] in str(lst)[1:-1]\n",
    "\n",
    "print(find_sublist([1, 2, 3, 4, 5], [3, 4]))  \n",
    "print(find_sublist([1, 2, 3], [4, 5]))       \n"
   ]
  },
  {
   "cell_type": "code",
   "execution_count": 69,
   "metadata": {},
   "outputs": [
    {
     "name": "stdout",
     "output_type": "stream",
     "text": [
      "[1, 99, 3, 2, 4]\n"
     ]
    }
   ],
   "source": [
    "def replace_element(lst, old, new):\n",
    "    if old in lst:\n",
    "        index = lst.index(old)\n",
    "        lst[index] = new\n",
    "    return lst\n",
    "\n",
    "print(replace_element([1, 2, 3, 2, 4], 2, 99))  "
   ]
  },
  {
   "cell_type": "code",
   "execution_count": 1,
   "metadata": {},
   "outputs": [
    {
     "name": "stdout",
     "output_type": "stream",
     "text": [
      "5\n"
     ]
    }
   ],
   "source": [
    "def second_largest(lst):\n",
    "    unique_lst = list(set(lst))\n",
    "    if len(unique_lst) < 2:\n",
    "        return None\n",
    "    unique_lst.sort(reverse=True)\n",
    "    return unique_lst[1]\n",
    "\n",
    "print(second_largest([5, 1, 9, 2, 9, 5]))  "
   ]
  },
  {
   "cell_type": "code",
   "execution_count": 7,
   "metadata": {},
   "outputs": [
    {
     "name": "stdout",
     "output_type": "stream",
     "text": [
      "2\n"
     ]
    }
   ],
   "source": [
    "def find_second_smallest(lst):\n",
    "    unique_lst = sorted(set(lst))\n",
    "    return unique_lst[1] if len(unique_lst) >= 2 else None\n",
    "\n",
    "print(find_second_smallest([5, 1, 9, 2, 9, 5]))  \n"
   ]
  },
  {
   "cell_type": "code",
   "execution_count": 9,
   "metadata": {},
   "outputs": [
    {
     "name": "stdout",
     "output_type": "stream",
     "text": [
      "[2, 4, 6]\n"
     ]
    }
   ],
   "source": [
    "def filter_even_numbers(lst):\n",
    "    return [num for num in lst if num % 2 == 0]\n",
    "\n",
    "print(filter_even_numbers([1, 2, 3, 4, 5, 6]))\n"
   ]
  },
  {
   "cell_type": "code",
   "execution_count": 10,
   "metadata": {},
   "outputs": [
    {
     "name": "stdout",
     "output_type": "stream",
     "text": [
      "[1, 3, 5]\n"
     ]
    }
   ],
   "source": [
    "def filter_odd_numbers(lst):\n",
    "    return [num for num in lst if num % 2 != 0]\n",
    "\n",
    "print(filter_odd_numbers([1, 2, 3, 4, 5, 6]))\n"
   ]
  },
  {
   "cell_type": "code",
   "execution_count": 12,
   "metadata": {},
   "outputs": [
    {
     "name": "stdout",
     "output_type": "stream",
     "text": [
      "5\n"
     ]
    }
   ],
   "source": [
    "def list_length(lst):\n",
    "    return len(lst)\n",
    "\n",
    "print(list_length([1, 2, 3, 4, 5]))\n"
   ]
  },
  {
   "cell_type": "code",
   "execution_count": 13,
   "metadata": {},
   "outputs": [
    {
     "name": "stdout",
     "output_type": "stream",
     "text": [
      "[1, 2, 3, 4, 5]\n"
     ]
    }
   ],
   "source": [
    "def create_copy(lst):\n",
    "    return lst[:]\n",
    "\n",
    "print(create_copy([1, 2, 3, 4, 5]))\n"
   ]
  },
  {
   "cell_type": "code",
   "execution_count": 14,
   "metadata": {},
   "outputs": [
    {
     "name": "stdout",
     "output_type": "stream",
     "text": [
      "3\n"
     ]
    }
   ],
   "source": [
    "def get_middle_element(lst):\n",
    "    n = len(lst)\n",
    "    return lst[n // 2] if n % 2 == 1 else lst[n // 2 - 1:n // 2 + 1]\n",
    "\n",
    "print(get_middle_element([1, 2, 3, 4, 5]))\n"
   ]
  },
  {
   "cell_type": "code",
   "execution_count": 15,
   "metadata": {},
   "outputs": [
    {
     "name": "stdout",
     "output_type": "stream",
     "text": [
      "4\n"
     ]
    }
   ],
   "source": [
    "def find_maximum_of_sublist(lst, start, end):\n",
    "    return max(lst[start:end])\n",
    "\n",
    "print(find_maximum_of_sublist([1, 2, 3, 4, 5], 1, 4))\n"
   ]
  },
  {
   "cell_type": "code",
   "execution_count": 17,
   "metadata": {},
   "outputs": [
    {
     "name": "stdout",
     "output_type": "stream",
     "text": [
      "2\n"
     ]
    }
   ],
   "source": [
    "def find_minimum_of_sublist(lst, start, end):\n",
    "    return min(lst[start:end])\n",
    "\n",
    "print(find_minimum_of_sublist([1, 2, 3, 4, 5], 1, 4))\n"
   ]
  },
  {
   "cell_type": "code",
   "execution_count": 18,
   "metadata": {},
   "outputs": [
    {
     "name": "stdout",
     "output_type": "stream",
     "text": [
      "[1, 2, 4, 5]\n"
     ]
    }
   ],
   "source": [
    "def remove_element_by_index(lst, idx):\n",
    "    if 0 <= idx < len(lst):\n",
    "        lst.pop(idx)\n",
    "    return lst\n",
    "\n",
    "print(remove_element_by_index([1, 2, 3, 4, 5], 2))\n"
   ]
  },
  {
   "cell_type": "code",
   "execution_count": 19,
   "metadata": {},
   "outputs": [
    {
     "name": "stdout",
     "output_type": "stream",
     "text": [
      "True\n"
     ]
    }
   ],
   "source": [
    "def is_sorted(lst):\n",
    "    return lst == sorted(lst)\n",
    "\n",
    "print(is_sorted([1, 2, 3, 4, 5]))\n"
   ]
  },
  {
   "cell_type": "code",
   "execution_count": 20,
   "metadata": {},
   "outputs": [
    {
     "name": "stdout",
     "output_type": "stream",
     "text": [
      "[1, 1, 2, 2, 3, 3]\n"
     ]
    }
   ],
   "source": [
    "def repeat_elements(lst, times):\n",
    "    return [item for item in lst for _ in range(times)]\n",
    "\n",
    "print(repeat_elements([1, 2, 3], 2))\n"
   ]
  },
  {
   "cell_type": "code",
   "execution_count": 21,
   "metadata": {},
   "outputs": [
    {
     "name": "stdout",
     "output_type": "stream",
     "text": [
      "[1, 2, 3, 4, 5, 6]\n"
     ]
    }
   ],
   "source": [
    "def merge_and_sort(lst1, lst2):\n",
    "    return sorted(lst1 + lst2)\n",
    "\n",
    "print(merge_and_sort([1, 3, 5], [2, 4, 6]))\n"
   ]
  },
  {
   "cell_type": "code",
   "execution_count": 23,
   "metadata": {},
   "outputs": [
    {
     "name": "stdout",
     "output_type": "stream",
     "text": [
      "[1, 3, 5]\n"
     ]
    }
   ],
   "source": [
    "def find_all_indices(lst, element):\n",
    "    return [i for i, x in enumerate(lst) if x == element]\n",
    "\n",
    "print(find_all_indices([1, 2, 3, 2, 4, 2], 2))"
   ]
  },
  {
   "cell_type": "code",
   "execution_count": 24,
   "metadata": {},
   "outputs": [
    {
     "name": "stdout",
     "output_type": "stream",
     "text": [
      "[4, 5, 1, 2, 3]\n"
     ]
    }
   ],
   "source": [
    "def rotate_list(lst, k):\n",
    "    k %= len(lst)\n",
    "    return lst[-k:] + lst[:-k]\n",
    "    \n",
    "print(rotate_list([1, 2, 3, 4, 5], 2))\n"
   ]
  },
  {
   "cell_type": "code",
   "execution_count": 25,
   "metadata": {},
   "outputs": [
    {
     "name": "stdout",
     "output_type": "stream",
     "text": [
      "[1, 2, 3, 4, 5]\n"
     ]
    }
   ],
   "source": [
    "def create_range_list(start, end):\n",
    "    return list(range(start, end + 1))\n",
    "\n",
    "print(create_range_list(1, 5))\n"
   ]
  },
  {
   "cell_type": "code",
   "execution_count": 26,
   "metadata": {},
   "outputs": [
    {
     "name": "stdout",
     "output_type": "stream",
     "text": [
      "9\n"
     ]
    }
   ],
   "source": [
    "def sum_of_positive_numbers(lst):\n",
    "    return sum(num for num in lst if num > 0)\n",
    "\n",
    "print(sum_of_positive_numbers([1, -2, 3, -4, 5]))\n"
   ]
  },
  {
   "cell_type": "code",
   "execution_count": 27,
   "metadata": {},
   "outputs": [
    {
     "name": "stdout",
     "output_type": "stream",
     "text": [
      "-6\n"
     ]
    }
   ],
   "source": [
    "def sum_of_negative_numbers(lst):\n",
    "    return sum(num for num in lst if num < 0)\n",
    "\n",
    "print(sum_of_negative_numbers([1, -2, 3, -4, 5]))\n"
   ]
  },
  {
   "cell_type": "code",
   "execution_count": 28,
   "metadata": {},
   "outputs": [
    {
     "name": "stdout",
     "output_type": "stream",
     "text": [
      "True\n"
     ]
    }
   ],
   "source": [
    "def check_palindrome(lst):\n",
    "    return lst == lst[::-1]\n",
    "\n",
    "print(check_palindrome([1, 2, 3, 2, 1]))\n"
   ]
  },
  {
   "cell_type": "code",
   "execution_count": 29,
   "metadata": {},
   "outputs": [
    {
     "name": "stdout",
     "output_type": "stream",
     "text": [
      "[[1, 2, 3], [4, 5, 6], [7, 8, 9]]\n"
     ]
    }
   ],
   "source": [
    "def create_nested_list(lst, n):\n",
    "    return [lst[i:i + n] for i in range(0, len(lst), n)]\n",
    "\n",
    "print(create_nested_list([1, 2, 3, 4, 5, 6, 7, 8, 9], 3))\n"
   ]
  },
  {
   "cell_type": "code",
   "execution_count": 33,
   "metadata": {},
   "outputs": [
    {
     "name": "stdout",
     "output_type": "stream",
     "text": [
      "[1, 2, 3, 4, 5]\n"
     ]
    }
   ],
   "source": [
    "def get_unique_elements_in_order(lst):\n",
    "    unique_lst = list(set(lst))\n",
    "    unique_lst.sort()\n",
    "    return unique_lst\n",
    "\n",
    "print(get_unique_elements_in_order([1, 2, 2, 3, 4, 4, 5]))\n"
   ]
  },
  {
   "cell_type": "markdown",
   "metadata": {},
   "source": [
    "### Tuple Tasks"
   ]
  },
  {
   "cell_type": "code",
   "execution_count": 34,
   "metadata": {},
   "outputs": [
    {
     "name": "stdout",
     "output_type": "stream",
     "text": [
      "3\n"
     ]
    }
   ],
   "source": [
    "def count_occurrences(tup, elem):\n",
    "    return tup.count(elem)\n",
    "\n",
    "print(count_occurrences((1, 2, 3, 2, 4, 2), 2))\n"
   ]
  },
  {
   "cell_type": "code",
   "execution_count": 35,
   "metadata": {},
   "outputs": [
    {
     "name": "stdout",
     "output_type": "stream",
     "text": [
      "5\n"
     ]
    }
   ],
   "source": [
    "def max_element(tup):\n",
    "    return max(tup) if tup else None\n",
    "\n",
    "print(max_element((1, 2, 3, 4, 5)))\n"
   ]
  },
  {
   "cell_type": "code",
   "execution_count": 36,
   "metadata": {},
   "outputs": [
    {
     "name": "stdout",
     "output_type": "stream",
     "text": [
      "1\n"
     ]
    }
   ],
   "source": [
    "def min_element(tup):\n",
    "    return min(tup) if tup else None\n",
    "\n",
    "print(min_element((1, 2, 3, 4, 5)))\n"
   ]
  },
  {
   "cell_type": "code",
   "execution_count": 37,
   "metadata": {},
   "outputs": [
    {
     "name": "stdout",
     "output_type": "stream",
     "text": [
      "True\n"
     ]
    }
   ],
   "source": [
    "def check_element(tup, elem):\n",
    "    return elem in tup\n",
    "\n",
    "print(check_element((1, 2, 3, 4, 5), 3))\n"
   ]
  },
  {
   "cell_type": "code",
   "execution_count": 38,
   "metadata": {},
   "outputs": [
    {
     "name": "stdout",
     "output_type": "stream",
     "text": [
      "1\n"
     ]
    }
   ],
   "source": [
    "def first_element(tup):\n",
    "    return tup[0] if tup else None\n",
    "\n",
    "print(first_element((1, 2, 3, 4, 5)))\n"
   ]
  },
  {
   "cell_type": "code",
   "execution_count": 39,
   "metadata": {},
   "outputs": [
    {
     "name": "stdout",
     "output_type": "stream",
     "text": [
      "5\n"
     ]
    }
   ],
   "source": [
    "def last_element(tup):\n",
    "    return tup[-1] if tup else None\n",
    "\n",
    "print(last_element((1, 2, 3, 4, 5)))\n"
   ]
  },
  {
   "cell_type": "code",
   "execution_count": 40,
   "metadata": {},
   "outputs": [
    {
     "name": "stdout",
     "output_type": "stream",
     "text": [
      "5\n"
     ]
    }
   ],
   "source": [
    "def tuple_length(tup):\n",
    "    return len(tup)\n",
    "\n",
    "print(tuple_length((1, 2, 3, 4, 5)))\n"
   ]
  },
  {
   "cell_type": "code",
   "execution_count": 41,
   "metadata": {},
   "outputs": [
    {
     "name": "stdout",
     "output_type": "stream",
     "text": [
      "(1, 2, 3)\n"
     ]
    }
   ],
   "source": [
    "def slice_tuple(tup):\n",
    "    return tup[:3]\n",
    "\n",
    "print(slice_tuple((1, 2, 3, 4, 5)))\n"
   ]
  },
  {
   "cell_type": "code",
   "execution_count": 42,
   "metadata": {},
   "outputs": [
    {
     "name": "stdout",
     "output_type": "stream",
     "text": [
      "(1, 2, 3, 4)\n"
     ]
    }
   ],
   "source": [
    "def concatenate_tuples(tup1, tup2):\n",
    "    return tup1 + tup2\n",
    "\n",
    "print(concatenate_tuples((1, 2), (3, 4)))\n"
   ]
  },
  {
   "cell_type": "code",
   "execution_count": 43,
   "metadata": {},
   "outputs": [
    {
     "name": "stdout",
     "output_type": "stream",
     "text": [
      "True\n"
     ]
    }
   ],
   "source": [
    "def is_empty(tup):\n",
    "    return len(tup) == 0\n",
    "\n",
    "print(is_empty(()))\n"
   ]
  },
  {
   "cell_type": "code",
   "execution_count": 44,
   "metadata": {},
   "outputs": [
    {
     "name": "stdout",
     "output_type": "stream",
     "text": [
      "[1, 3, 5]\n"
     ]
    }
   ],
   "source": [
    "def get_all_indices(tup, elem):\n",
    "    return [i for i, x in enumerate(tup) if x == elem]\n",
    "\n",
    "print(get_all_indices((1, 2, 3, 2, 4, 2), 2))\n"
   ]
  },
  {
   "cell_type": "code",
   "execution_count": 45,
   "metadata": {},
   "outputs": [
    {
     "name": "stdout",
     "output_type": "stream",
     "text": [
      "4\n"
     ]
    }
   ],
   "source": [
    "def second_largest(tup):\n",
    "    return sorted(set(tup))[-2] if len(set(tup)) >= 2 else None\n",
    "\n",
    "print(second_largest((1, 2, 3, 4, 5)))\n"
   ]
  },
  {
   "cell_type": "code",
   "execution_count": 46,
   "metadata": {},
   "outputs": [
    {
     "name": "stdout",
     "output_type": "stream",
     "text": [
      "2\n"
     ]
    }
   ],
   "source": [
    "def second_smallest(tup):\n",
    "    return sorted(set(tup))[1] if len(set(tup)) >= 2 else None\n",
    "\n",
    "print(second_smallest((1, 2, 3, 4, 5)))\n"
   ]
  },
  {
   "cell_type": "code",
   "execution_count": 47,
   "metadata": {},
   "outputs": [
    {
     "name": "stdout",
     "output_type": "stream",
     "text": [
      "(1,)\n"
     ]
    }
   ],
   "source": [
    "def single_element_tuple(elem):\n",
    "    return (elem,)\n",
    "\n",
    "print(single_element_tuple(1))\n"
   ]
  },
  {
   "cell_type": "code",
   "execution_count": 48,
   "metadata": {},
   "outputs": [
    {
     "name": "stdout",
     "output_type": "stream",
     "text": [
      "(1, 2, 3, 4, 5)\n"
     ]
    }
   ],
   "source": [
    "def list_to_tuple(lst):\n",
    "    return tuple(lst)\n",
    "\n",
    "print(list_to_tuple([1, 2, 3, 4, 5]))\n"
   ]
  },
  {
   "cell_type": "code",
   "execution_count": 49,
   "metadata": {},
   "outputs": [
    {
     "name": "stdout",
     "output_type": "stream",
     "text": [
      "True\n"
     ]
    }
   ],
   "source": [
    "def is_sorted(tup):\n",
    "    return tup == tuple(sorted(tup))\n",
    "\n",
    "print(is_sorted((1, 2, 3, 4, 5)))\n"
   ]
  },
  {
   "cell_type": "code",
   "execution_count": 50,
   "metadata": {},
   "outputs": [
    {
     "name": "stdout",
     "output_type": "stream",
     "text": [
      "4\n"
     ]
    }
   ],
   "source": [
    "def max_of_subtuple(tup, start, end):\n",
    "    return max(tup[start:end]) if tup[start:end] else None\n",
    "\n",
    "print(max_of_subtuple((1, 2, 3, 4, 5), 1, 4))\n"
   ]
  },
  {
   "cell_type": "code",
   "execution_count": 51,
   "metadata": {},
   "outputs": [
    {
     "name": "stdout",
     "output_type": "stream",
     "text": [
      "2\n"
     ]
    }
   ],
   "source": [
    "def min_of_subtuple(tup, start, end):\n",
    "    return min(tup[start:end]) if tup[start:end] else None\n",
    "\n",
    "print(min_of_subtuple((1, 2, 3, 4, 5), 1, 4))\n"
   ]
  },
  {
   "cell_type": "code",
   "execution_count": 52,
   "metadata": {},
   "outputs": [
    {
     "name": "stdout",
     "output_type": "stream",
     "text": [
      "(1, 2, 4, 5)\n"
     ]
    }
   ],
   "source": [
    "def remove_element(tup, elem):\n",
    "    lst = list(tup)\n",
    "    if elem in lst:\n",
    "        lst.remove(elem)\n",
    "    return tuple(lst)\n",
    "\n",
    "print(remove_element((1, 2, 3, 4, 5), 3))\n"
   ]
  },
  {
   "cell_type": "code",
   "execution_count": 53,
   "metadata": {},
   "outputs": [
    {
     "name": "stdout",
     "output_type": "stream",
     "text": [
      "(1, 2, 3, 4, 5)\n"
     ]
    }
   ],
   "source": [
    "def create_nested_tuple(*args):\n",
    "    return tuple(args)\n",
    "\n",
    "print(create_nested_tuple(1, 2, 3, 4, 5))\n"
   ]
  },
  {
   "cell_type": "code",
   "execution_count": 54,
   "metadata": {},
   "outputs": [
    {
     "name": "stdout",
     "output_type": "stream",
     "text": [
      "(1, 1, 2, 2, 3, 3)\n"
     ]
    }
   ],
   "source": [
    "def repeat_elements(tup, n):\n",
    "    return tuple(x for x in tup for _ in range(n))\n",
    "\n",
    "print(repeat_elements((1, 2, 3), 2))\n"
   ]
  },
  {
   "cell_type": "code",
   "execution_count": 55,
   "metadata": {},
   "outputs": [
    {
     "name": "stdout",
     "output_type": "stream",
     "text": [
      "(1, 2, 3, 4, 5)\n"
     ]
    }
   ],
   "source": [
    "def range_tuple(start, end):\n",
    "    return tuple(range(start, end + 1))\n",
    "\n",
    "print(range_tuple(1, 5))\n"
   ]
  },
  {
   "cell_type": "code",
   "execution_count": 56,
   "metadata": {},
   "outputs": [
    {
     "name": "stdout",
     "output_type": "stream",
     "text": [
      "(5, 4, 3, 2, 1)\n"
     ]
    }
   ],
   "source": [
    "def reverse_tuple(tup):\n",
    "    return tup[::-1]\n",
    "\n",
    "print(reverse_tuple((1, 2, 3, 4, 5)))\n"
   ]
  },
  {
   "cell_type": "code",
   "execution_count": 57,
   "metadata": {},
   "outputs": [
    {
     "name": "stdout",
     "output_type": "stream",
     "text": [
      "True\n"
     ]
    }
   ],
   "source": [
    "def is_palindrome(tup):\n",
    "    return tup == tup[::-1]\n",
    "\n",
    "print(is_palindrome((1, 2, 3, 2, 1)))\n"
   ]
  },
  {
   "cell_type": "code",
   "execution_count": 58,
   "metadata": {},
   "outputs": [
    {
     "name": "stdout",
     "output_type": "stream",
     "text": [
      "(1, 2, 3, 4, 5)\n"
     ]
    }
   ],
   "source": [
    "def unique_elements(tup):\n",
    "    seen = set()\n",
    "    return tuple(x for x in tup if not (x in seen or seen.add(x)))\n",
    "\n",
    "print(unique_elements((1, 2, 2, 3, 4, 4, 5)))\n"
   ]
  }
 ],
 "metadata": {
  "kernelspec": {
   "display_name": "Python 3",
   "language": "python",
   "name": "python3"
  },
  "language_info": {
   "codemirror_mode": {
    "name": "ipython",
    "version": 3
   },
   "file_extension": ".py",
   "mimetype": "text/x-python",
   "name": "python",
   "nbconvert_exporter": "python",
   "pygments_lexer": "ipython3",
   "version": "3.13.2"
  }
 },
 "nbformat": 4,
 "nbformat_minor": 2
}
