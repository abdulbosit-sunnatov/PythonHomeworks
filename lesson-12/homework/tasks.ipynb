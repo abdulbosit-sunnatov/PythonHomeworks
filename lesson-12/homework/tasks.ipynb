{
 "cells": [
  {
   "cell_type": "code",
   "execution_count": 4,
   "metadata": {},
   "outputs": [
    {
     "name": "stdout",
     "output_type": "stream",
     "text": [
      "Requirement already satisfied: beautifulsoup4 in c:\\users\\posit\\miniconda3\\lib\\site-packages (4.13.3)\n",
      "Requirement already satisfied: soupsieve>1.2 in c:\\users\\posit\\miniconda3\\lib\\site-packages (from beautifulsoup4) (2.6)\n",
      "Requirement already satisfied: typing-extensions>=4.0.0 in c:\\users\\posit\\miniconda3\\lib\\site-packages (from beautifulsoup4) (4.12.2)\n",
      "Note: you may need to restart the kernel to use updated packages.\n",
      "Weather Forecast:\n",
      "Monday: 25°C, Sunny\n",
      "Tuesday: 22°C, Cloudy\n",
      "Wednesday: 18°C, Rainy\n",
      "Thursday: 20°C, Partly Cloudy\n",
      "Friday: 30°C, Sunny\n",
      "\n",
      "Day with the highest temperature: Friday (30°C)\n",
      "Sunny days: Monday, Friday\n",
      "\n",
      "Average temperature for the week: 23.00°C\n"
     ]
    }
   ],
   "source": [
    "%pip install beautifulsoup4\n",
    "\n",
    "from bs4 import BeautifulSoup\n",
    "\n",
    "with open(\"weather.html\", \"r\", encoding=\"utf-8\") as file:\n",
    "    soup = BeautifulSoup(file, \"html.parser\")\n",
    "\n",
    "table_rows = soup.find(\"table\").find(\"tbody\").find_all(\"tr\")\n",
    "weather_data = []\n",
    "\n",
    "for row in table_rows:\n",
    "    columns = row.find_all(\"td\")\n",
    "    day = columns[0].text.strip()\n",
    "    temp = int(columns[1].text.strip().replace(\"°C\", \"\"))\n",
    "    condition = columns[2].text.strip()\n",
    "    weather_data.append({\"day\": day, \"temperature\": temp, \"condition\": condition})\n",
    "\n",
    "print(\"Weather Forecast:\")\n",
    "for entry in weather_data:\n",
    "    print(f\"{entry['day']}: {entry['temperature']}°C, {entry['condition']}\")\n",
    "\n",
    "temp_max = max(weather_data, key=lambda x: x[\"temperature\"])\n",
    "print(f\"\\nDay with the highest temperature: {temp_max['day']} ({temp_max['temperature']}°C)\")\n",
    "\n",
    "sunny_days = [entry[\"day\"] for entry in weather_data if entry[\"condition\"] == \"Sunny\"]\n",
    "print(f\"Sunny days: {', '.join(sunny_days)}\")\n",
    "\n",
    "avg_temp = sum(entry[\"temperature\"] for entry in weather_data) / len(weather_data)\n",
    "print(f\"\\nAverage temperature for the week: {avg_temp:.2f}°C\")"
   ]
  }
 ],
 "metadata": {
  "kernelspec": {
   "display_name": "base",
   "language": "python",
   "name": "python3"
  },
  "language_info": {
   "codemirror_mode": {
    "name": "ipython",
    "version": 3
   },
   "file_extension": ".py",
   "mimetype": "text/x-python",
   "name": "python",
   "nbconvert_exporter": "python",
   "pygments_lexer": "ipython3",
   "version": "3.12.9"
  }
 },
 "nbformat": 4,
 "nbformat_minor": 2
}
