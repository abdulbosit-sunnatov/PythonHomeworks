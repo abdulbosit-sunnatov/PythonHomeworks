{
 "cells": [
  {
   "cell_type": "code",
   "execution_count": 2,
   "metadata": {},
   "outputs": [],
   "source": [
    "import sqlite3\n",
    "\n",
    "conn = sqlite3.connect('library.db')\n",
    "cursor = conn.cursor()\n",
    "\n",
    "cursor.execute('''\n",
    "CREATE TABLE IF NOT EXISTS Books (\n",
    "    Title TEXT,\n",
    "    Author TEXT,\n",
    "    Year_Published INTEGER,\n",
    "    Genre TEXT\n",
    ")\n",
    "''')\n",
    "\n",
    "conn.commit()\n"
   ]
  },
  {
   "cell_type": "code",
   "execution_count": 3,
   "metadata": {},
   "outputs": [],
   "source": [
    "books = [\n",
    "    ('To Kill a Mockingbird', 'Harper Lee', 1960, 'Fiction'),\n",
    "    ('1984', 'George Orwell', 1949, 'Dystopian'),\n",
    "    ('The Great Gatsby', 'F. Scott Fitzgerald', 1925, 'Classic')\n",
    "]\n",
    "\n",
    "cursor.executemany('INSERT INTO Books VALUES (?, ?, ?, ?)', books)\n",
    "\n",
    "conn.commit()"
   ]
  },
  {
   "cell_type": "code",
   "execution_count": 4,
   "metadata": {},
   "outputs": [],
   "source": [
    "cursor.execute('''\n",
    "UPDATE Books\n",
    "SET Year_Published = 1950\n",
    "WHERE Title = '1984'\n",
    "''')\n",
    "\n",
    "conn.commit()"
   ]
  },
  {
   "cell_type": "code",
   "execution_count": 5,
   "metadata": {},
   "outputs": [
    {
     "name": "stdout",
     "output_type": "stream",
     "text": [
      "Title: 1984, Author: George Orwell\n"
     ]
    }
   ],
   "source": [
    "cursor.execute('''\n",
    "SELECT Title, Author\n",
    "FROM Books\n",
    "WHERE Genre = 'Dystopian'\n",
    "''')\n",
    "\n",
    "dystopian_books = cursor.fetchall()\n",
    "for book in dystopian_books:\n",
    "    print(f'Title: {book[0]}, Author: {book[1]}')"
   ]
  },
  {
   "cell_type": "code",
   "execution_count": 6,
   "metadata": {},
   "outputs": [],
   "source": [
    "conn = sqlite3.connect('library.db')\n",
    "cursor = conn.cursor()\n",
    "\n",
    "cursor.execute('''\n",
    "DELETE FROM Books\n",
    "WHERE Year_Published < 1950\n",
    "''')\n",
    "\n",
    "conn.commit()"
   ]
  },
  {
   "cell_type": "code",
   "execution_count": 7,
   "metadata": {},
   "outputs": [],
   "source": [
    "conn = sqlite3.connect('library.db')\n",
    "cursor = conn.cursor()\n",
    "\n",
    "cursor.execute('ALTER TABLE Books ADD COLUMN Rating REAL')\n",
    "\n",
    "conn.commit()"
   ]
  },
  {
   "cell_type": "code",
   "execution_count": 8,
   "metadata": {},
   "outputs": [],
   "source": [
    "conn = sqlite3.connect('library.db')\n",
    "cursor = conn.cursor()\n",
    "\n",
    "ratings = [\n",
    "      (4.8, 'To Kill a Mockingbird'),\n",
    "      (4.7, '1984'),\n",
    "      (4.5, 'The Great Gatsby')\n",
    "  ]\n",
    "\n",
    "cursor.executemany('''\n",
    "  UPDATE Books\n",
    "  SET Rating = ?\n",
    "  WHERE Title = ?\n",
    "  ''', ratings)\n",
    "\n",
    "conn.commit()\n",
    "conn.close()\n"
   ]
  },
  {
   "cell_type": "code",
   "execution_count": 9,
   "metadata": {},
   "outputs": [
    {
     "name": "stdout",
     "output_type": "stream",
     "text": [
      "Title: 1984, Author: George Orwell, Year Published: 1950, Genre: Dystopian, Rating: 4.7\n",
      "Title: To Kill a Mockingbird, Author: Harper Lee, Year Published: 1960, Genre: Fiction, Rating: 4.8\n"
     ]
    }
   ],
   "source": [
    "conn = sqlite3.connect('library.db')\n",
    "cursor = conn.cursor()\n",
    "\n",
    "cursor.execute('''\n",
    "  SELECT Title, Author, Year_Published, Genre, Rating\n",
    "  FROM Books\n",
    "  ORDER BY Year_Published ASC\n",
    "  ''')\n",
    "\n",
    "sorted_books = cursor.fetchall()\n",
    "for book in sorted_books:\n",
    "      print(f'Title: {book[0]}, Author: {book[1]}, Year Published: {book[2]}, Genre: {book[3]}, Rating: {book[4]}')\n",
    "\n",
    "conn.close()\n"
   ]
  }
 ],
 "metadata": {
  "kernelspec": {
   "display_name": "base",
   "language": "python",
   "name": "python3"
  },
  "language_info": {
   "codemirror_mode": {
    "name": "ipython",
    "version": 3
   },
   "file_extension": ".py",
   "mimetype": "text/x-python",
   "name": "python",
   "nbconvert_exporter": "python",
   "pygments_lexer": "ipython3",
   "version": "3.12.9"
  }
 },
 "nbformat": 4,
 "nbformat_minor": 2
}
