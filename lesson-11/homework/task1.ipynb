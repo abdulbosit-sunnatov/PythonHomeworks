{
 "cells": [
  {
   "cell_type": "code",
   "execution_count": 1,
   "metadata": {},
   "outputs": [],
   "source": [
    "import sqlite3"
   ]
  },
  {
   "cell_type": "code",
   "execution_count": 2,
   "metadata": {},
   "outputs": [],
   "source": [
    "with sqlite3.connect('roster.db') as con:\n",
    "    cursor = con.cursor()\n",
    "    cursor.execute('''\n",
    "        CREATE TABLE IF NOT EXISTS Roster (\n",
    "            Name TEXT,\n",
    "            Species TEXT,\n",
    "            Age INTEGER\n",
    "        )\n",
    "    ''')\n",
    "    \n",
    "    con.commit()"
   ]
  },
  {
   "cell_type": "code",
   "execution_count": 5,
   "metadata": {},
   "outputs": [],
   "source": [
    "con.executemany('INSERT INTO Roster (Name, Species, Age) VALUES (?, ?, ?)', \n",
    "                [('Benjamin Sisko', 'Human', 40),\n",
    "                 ('Jadzia Dax', 'Trill', 300),\n",
    "                 ('Kira Nerys', 'Bajoran', 29)])\n",
    "con.commit()"
   ]
  },
  {
   "cell_type": "code",
   "execution_count": 6,
   "metadata": {},
   "outputs": [],
   "source": [
    "cursor.execute('UPDATE Roster SET Name = ? WHERE Name = ?', ('Ezri Dax', 'Jadzia Dax'))\n",
    "con.commit()"
   ]
  },
  {
   "cell_type": "code",
   "execution_count": 7,
   "metadata": {},
   "outputs": [
    {
     "name": "stdout",
     "output_type": "stream",
     "text": [
      "Name: Kira Nerys, Age: 29\n",
      "Name: Kira Nerys, Age: 29\n"
     ]
    }
   ],
   "source": [
    "cursor.execute('SELECT Name, Age FROM Roster WHERE Species = ?', ('Bajoran',))\n",
    "results = cursor.fetchall()\n",
    "\n",
    "for row in results:\n",
    "    print(f\"Name: {row[0]}, Age: {row[1]}\")"
   ]
  },
  {
   "cell_type": "code",
   "execution_count": 8,
   "metadata": {},
   "outputs": [],
   "source": [
    "cursor.execute('DELETE FROM Roster WHERE Age > ?', (100,))\n",
    "con.commit()"
   ]
  },
  {
   "cell_type": "code",
   "execution_count": 9,
   "metadata": {},
   "outputs": [
    {
     "name": "stdout",
     "output_type": "stream",
     "text": [
      "Name: Benjamin Sisko, Species: Human, Age: 40, Rank: Captain\n",
      "Name: Benjamin Sisko, Species: Human, Age: 40, Rank: Captain\n",
      "Name: Kira Nerys, Species: Bajoran, Age: 29, Rank: Major\n",
      "Name: Kira Nerys, Species: Bajoran, Age: 29, Rank: Major\n"
     ]
    }
   ],
   "source": [
    "cursor.execute('ALTER TABLE Roster ADD COLUMN Rank TEXT')\n",
    "con.commit()\n",
    "\n",
    "cursor.executemany('UPDATE Roster SET Rank = ? WHERE Name = ?', \n",
    "                   [('Captain', 'Benjamin Sisko'),\n",
    "                    ('Lieutenant', 'Ezri Dax'),\n",
    "                    ('Major', 'Kira Nerys')])\n",
    "con.commit()\n",
    "\n",
    "cursor.execute('SELECT Name, Species, Age, Rank FROM Roster ORDER BY Age DESC')\n",
    "sorted_results = cursor.fetchall()\n",
    "\n",
    "for character in sorted_results:\n",
    "    print(f\"Name: {character[0]}, Species: {character[1]}, Age: {character[2]}, Rank: {character[3]}\")"
   ]
  }
 ],
 "metadata": {
  "kernelspec": {
   "display_name": "base",
   "language": "python",
   "name": "python3"
  },
  "language_info": {
   "codemirror_mode": {
    "name": "ipython",
    "version": 3
   },
   "file_extension": ".py",
   "mimetype": "text/x-python",
   "name": "python",
   "nbconvert_exporter": "python",
   "pygments_lexer": "ipython3",
   "version": "3.12.9"
  }
 },
 "nbformat": 4,
 "nbformat_minor": 2
}
